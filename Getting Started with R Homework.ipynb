{
 "cells": [
  {
   "cell_type": "markdown",
   "id": "8e2ae20d",
   "metadata": {},
   "source": [
    "Question 1: What is an IDE?\n",
    "Answer: IDE stands for an Integrated Development Environment."
   ]
  },
  {
   "cell_type": "markdown",
   "id": "d6295891",
   "metadata": {},
   "source": [
    "Question 2: Why use Anaconda?\n",
    "Answer: Anaconda will help you to manage all the libraries required for Python in RStudio, or R. Anaconda will install all the required libraries and IDE into one single folder to simplify package management. Otherwise, you would need to install them separately."
   ]
  },
  {
   "cell_type": "markdown",
   "id": "b2a8e2fe",
   "metadata": {},
   "source": [
    "Question 3: Can we use R from within jupyter notebook?\n",
    "Answer: Yes, you can select R when you create a new notebook in the \"New\" tab. "
   ]
  },
  {
   "cell_type": "markdown",
   "id": "55f5e45b",
   "metadata": {},
   "source": [
    "Question 4: What is R?\n",
    "Answer: R is a programming language. To use R, we need to install an Integrated Development Environment (IDE). Rstudio is the Best IDE available as it is user-friendly, open-source and is part of the Anaconda platform."
   ]
  },
  {
   "cell_type": "markdown",
   "id": "e75b8fbb",
   "metadata": {},
   "source": [
    "Question 5: Who uses are R?\n",
    "Answer: business analysts, data analysts, data scientists, and scientists."
   ]
  },
  {
   "cell_type": "markdown",
   "id": "9065f9ea",
   "metadata": {},
   "source": [
    "Question 6: How is R different from python?\n",
    "Answer: Python and R are the preferred languages in Data Science, Data Analysis, Machine Learning, etc. Although they are used for similar purposes they differ from each other. R mainly focuses on the statistical part of a project while Python is flexible in its usage and data analysis tasks."
   ]
  },
  {
   "cell_type": "markdown",
   "id": "616938be",
   "metadata": {},
   "source": [
    "Question 7: What is R Studio?\n",
    "Answer: RStudio allows the user to run R in a more user-friendly environment."
   ]
  },
  {
   "cell_type": "markdown",
   "id": "2a6086ed",
   "metadata": {},
   "source": [
    "Question 8: What is a script?\n",
    "Answer: The R script is where you keep a record of your work."
   ]
  },
  {
   "cell_type": "markdown",
   "id": "38043eab",
   "metadata": {},
   "source": [
    "Question 9: What is a notebook?\n",
    "Answer: An R Notebook is an R Markdown document that allows for independent and interactive execution of the code chunks. "
   ]
  },
  {
   "cell_type": "markdown",
   "id": "f7ab7cd8",
   "metadata": {},
   "source": [
    "Question 10: Post a picture/screencap of the R studio screen and explain the different parts like the console\n",
    "Answer: (Photo in submission) The console is where you can type commands and see output. The workspace tab shows all the active objects (see next slide). The history tab shows a list of commands used so far. The files tab shows all the files and folders in your default workspace as if you were on a PC/Mac window. The plots tab will show all your graphs. The packages tab will list a series of packages or add-ons needed to run certain processes. For additional info see the help tab. "
   ]
  },
  {
   "cell_type": "markdown",
   "id": "2466ec84",
   "metadata": {},
   "source": [
    "Question 11: What is the difference between R Notebook - R Markdown - Jupyter Notebook\n",
    "Answer: Technically, R Markdown is a file, whereas R Notebook is a way to work with R Markdown files. R Notebooks do not have their own file format, they all use . Rmd . All R Notebooks can be 'knitted' to R Markdown outputs, and all R Markdown documents can be interfaced as a Notebook. When it comes to writing your code along with explanations and descriptions, R Markdown is very similar to Jupyter Notebook, but there are several things that R Markdown can do that Jupyter Notebook lacks.\n"
   ]
  }
 ],
 "metadata": {
  "kernelspec": {
   "display_name": "Python 3 (ipykernel)",
   "language": "python",
   "name": "python3"
  },
  "language_info": {
   "codemirror_mode": {
    "name": "ipython",
    "version": 3
   },
   "file_extension": ".py",
   "mimetype": "text/x-python",
   "name": "python",
   "nbconvert_exporter": "python",
   "pygments_lexer": "ipython3",
   "version": "3.9.12"
  }
 },
 "nbformat": 4,
 "nbformat_minor": 5
}
