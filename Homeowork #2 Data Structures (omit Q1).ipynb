{
 "cells": [
  {
   "cell_type": "markdown",
   "id": "35eb2c4a",
   "metadata": {},
   "source": [
    "Exercise 2\n",
    "Get a space-separated list of integers from the user, create a tuple of those integers. Then compute and print the result of hash(tuple)."
   ]
  },
  {
   "cell_type": "code",
   "execution_count": 3,
   "id": "d8d1a0a2",
   "metadata": {},
   "outputs": [
    {
     "name": "stdout",
     "output_type": "stream",
     "text": [
      "input integer: 2\n",
      "input integer: 4\n",
      "input integer: 6\n",
      "-3144897930111850629\n"
     ]
    }
   ],
   "source": [
    "x1 = int(input(\"input integer: \"))\n",
    "x2 = int(input(\"input integer: \"))\n",
    "x3 = int(input(\"input integer: \"))\n",
    "\n",
    "t = (x1, x2, x3)\n",
    "hash(t)\n",
    "\n",
    "print(hash(t))"
   ]
  },
  {
   "cell_type": "markdown",
   "id": "86790994",
   "metadata": {},
   "source": [
    "Exercise 3\n",
    "Take the following two lists. Create a third list by picking a odd-index elements from the first list and even-index elements from the second.\n",
    "\n",
    "listOne = [3, 6, 9, 12, 15, 18, 21]\n",
    "listTwo = [4, 8, 12, 16, 20, 24, 28]"
   ]
  },
  {
   "cell_type": "code",
   "execution_count": 32,
   "id": "6a7daea5",
   "metadata": {},
   "outputs": [
    {
     "name": "stdout",
     "output_type": "stream",
     "text": [
      "Element at odd-index positions from list one\n",
      "[6, 12, 18]\n",
      "Element at even-index positions from list two\n",
      "[4, 12, 20, 28]\n",
      "Print third list\n",
      "[6, 12, 18, 4, 12, 20, 28]\n"
     ]
    }
   ],
   "source": [
    "listOne = [3, 6, 9, 12, 15, 18, 21]\n",
    "listTwo = [4, 8, 12, 16, 20, 24, 28]\n",
    "\n",
    "\n",
    "odd_elements = listOne[1::2] #start at index 1, every other\n",
    "print(\"Element at odd-index positions from list one\")\n",
    "print(odd_elements)\n",
    "\n",
    "even_elements = listTwo[0::2] #start at index 0, every other\n",
    "print(\"Element at even-index positions from list two\")\n",
    "print(even_elements)\n",
    "\n",
    "print(\"Print third list\")\n",
    "\n",
    "print(listOne[1::2] + listTwo[0::2])"
   ]
  },
  {
   "cell_type": "markdown",
   "id": "4bbc8016",
   "metadata": {},
   "source": [
    "Exercise 4\n",
    "Take the following list. Slice it into three equal chunks and reverse each list.\n",
    "\n",
    "sampleList = [11, 45, 8, 23, 14, 12, 78, 45, 89]"
   ]
  },
  {
   "cell_type": "code",
   "execution_count": 28,
   "id": "c281d117",
   "metadata": {},
   "outputs": [
    {
     "name": "stdout",
     "output_type": "stream",
     "text": [
      "[8, 45, 11] [12, 14, 23] [89, 45, 78]\n"
     ]
    }
   ],
   "source": [
    "\n",
    "#orginial data list\n",
    "sampleList = [11, 45, 8, 23, 14, 12, 78, 45, 89]\n",
    "#first third of list\n",
    "sampleList1= sampleList[0:3]\n",
    "#second third of list\n",
    "sampleList2 = sampleList[3:6]\n",
    "#final third of list\n",
    "sampleList3 = sampleList[6:10]\n",
    "#reverse lists\n",
    "sampleList1.reverse()\n",
    "sampleList2.reverse()\n",
    "sampleList3.reverse()\n",
    "#print lists\n",
    "print (sampleList1, sampleList2, sampleList3)"
   ]
  },
  {
   "cell_type": "markdown",
   "id": "d9c3cca6",
   "metadata": {},
   "source": [
    "Exercise 5\n",
    "Iterate through a given list and check if a given element already exists in a dictionary as a key’s value. If not, delete it from the list.\n",
    "\n",
    "rollNumber = [47, 64, 69, 37, 76, 83, 95, 97]\n",
    "sampleDict ={'Zach':47, 'Emma':69, 'Kelly':76, 'Jason':97}"
   ]
  },
  {
   "cell_type": "code",
   "execution_count": 30,
   "id": "b504852c",
   "metadata": {},
   "outputs": [
    {
     "name": "stdout",
     "output_type": "stream",
     "text": [
      "[47, 69, 76, 97]\n"
     ]
    }
   ],
   "source": [
    "rollNumber = [47, 64, 69, 37, 76, 83, 95, 97]\n",
    "#deletes index number assigned to value (in this case number assigned to person) \n",
    "del rollNumber[1]\n",
    "del rollNumber[-5]\n",
    "del rollNumber[-3]\n",
    "del rollNumber[-2]\n",
    "\n",
    "print(rollNumber)\n",
    "sampleDict ={'Zach':47, 'Emma':69, 'Kelly':76, 'Jason':97}"
   ]
  },
  {
   "cell_type": "code",
   "execution_count": null,
   "id": "11f971bc",
   "metadata": {},
   "outputs": [],
   "source": []
  }
 ],
 "metadata": {
  "kernelspec": {
   "display_name": "Python 3 (ipykernel)",
   "language": "python",
   "name": "python3"
  },
  "language_info": {
   "codemirror_mode": {
    "name": "ipython",
    "version": 3
   },
   "file_extension": ".py",
   "mimetype": "text/x-python",
   "name": "python",
   "nbconvert_exporter": "python",
   "pygments_lexer": "ipython3",
   "version": "3.9.12"
  }
 },
 "nbformat": 4,
 "nbformat_minor": 5
}
