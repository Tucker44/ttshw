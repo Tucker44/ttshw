{
 "cells": [
  {
   "cell_type": "markdown",
   "metadata": {},
   "source": [
    "Data Science Fundamentals: Python |\n",
    "[Table of Contents](../index.ipynb)\n",
    "- - - \n",
    "<!--NAVIGATION-->\n",
    "Module 1. [Basic Python Syntax](./01_mod_python_syntax.ipynb) | [Variables and Objects](./02_python_variables_objects.ipynb) | [Operators](./03_python_operators.ipynb) | **[Exercises](./04_mod_practice.ipynb)**"
   ]
  },
  {
   "cell_type": "markdown",
   "metadata": {},
   "source": [
    "# Module 1: Practice Exercises"
   ]
  },
  {
   "cell_type": "markdown",
   "metadata": {},
   "source": [
    "1. Accept the user's first and last name and print them in reverse order with a space between them"
   ]
  },
  {
   "cell_type": "code",
   "execution_count": 1,
   "metadata": {},
   "outputs": [
    {
     "name": "stdout",
     "output_type": "stream",
     "text": [
      "FirstName: Tucker\n",
      "LastName: Doherty\n",
      "Doherty Tucker\n"
     ]
    }
   ],
   "source": [
    "firstname=input(\"FirstName: \")\n",
    "# assign users first name\n",
    "lastname=input(\"LastName: \")\n",
    "# assign users first name\n",
    "print(lastname, firstname)\n",
    "# print them in reverse order"
   ]
  },
  {
   "cell_type": "markdown",
   "metadata": {},
   "source": [
    "2. Accept an integer (n) and compute the value of n+nn+nnn"
   ]
  },
  {
   "cell_type": "code",
   "execution_count": 2,
   "metadata": {},
   "outputs": [
    {
     "name": "stdout",
     "output_type": "stream",
     "text": [
      "integer: 3\n",
      "369\n"
     ]
    }
   ],
   "source": [
    "# accept input, input must be an integer\n",
    "n=int(input(\"integer: \"))\n",
    "\n",
    "# comput n + nn\n",
    "t=str(n)\n",
    "nn=t+t\n",
    "nnn=t+t+t\n",
    "result=n+int(nn)+int(nnn)\n",
    "print(result)\n",
    "\n",
    "# add nnn"
   ]
  },
  {
   "cell_type": "markdown",
   "metadata": {},
   "source": [
    "3. Ask the user \"What country are you from?\" then print the following statement: \"I have heard that [input] is a beautiful country!\""
   ]
  },
  {
   "cell_type": "code",
   "execution_count": 3,
   "metadata": {},
   "outputs": [
    {
     "name": "stdout",
     "output_type": "stream",
     "text": [
      "What country are you from?: USA\n",
      "I have hear that USA is a beautiful country!\n"
     ]
    }
   ],
   "source": [
    "# ask user what country are you from\n",
    "#input(\"What country are you from?\")\n",
    "# make input a variable\n",
    "country=input(\"What country are you from?: \")\n",
    "# print the message\n",
    "print(\"I have hear that \"+country+\" is a beautiful country!\")"
   ]
  },
  {
   "cell_type": "markdown",
   "metadata": {},
   "source": [
    "4. Write a for loop that multiplies the number 4 by all the integers from 0 to 10 and prints the following for each: \"4 multiplied by [i] is [x]\" "
   ]
  },
  {
   "cell_type": "code",
   "execution_count": 10,
   "metadata": {},
   "outputs": [
    {
     "name": "stdout",
     "output_type": "stream",
     "text": [
      "4 x 1 = 4\n",
      "4 x 2 = 8\n",
      "4 x 3 = 12\n",
      "4 x 4 = 16\n",
      "4 x 5 = 20\n",
      "4 x 6 = 24\n",
      "4 x 7 = 28\n",
      "4 x 8 = 32\n",
      "4 x 9 = 36\n",
      "4 x 10 = 40\n"
     ]
    }
   ],
   "source": [
    "count = 1\n",
    "# number for loop\n",
    "# loop 4 is being multiplied\n",
    "while (count < 11): # count less than 11, which is technically 10\n",
    "    i = count # variable\n",
    "    stringOne = str(i) #strings variable\n",
    "    x = i * 4 # multiplies variable by 4\n",
    "    stringTwo = str(x) # answer to x = i x 4\n",
    "    print (\"4 x \" + stringOne + \" = \" + stringTwo) # prints the loop with answers\n",
    "    count = count + 1 # keep list from being continuous, stops at 10"
   ]
  },
  {
   "cell_type": "markdown",
   "metadata": {},
   "source": [
    "5. Print a multiplication table that matches the following. Use two nested for loops to achieve this."
   ]
  },
  {
   "cell_type": "markdown",
   "metadata": {},
   "source": [
    "<img src=\"files/table.png\">"
   ]
  },
  {
   "cell_type": "code",
   "execution_count": 13,
   "metadata": {},
   "outputs": [
    {
     "name": "stdout",
     "output_type": "stream",
     "text": [
      "1 2 3 4 5 6 7 8 9 10 \n",
      "2 4 6 8 10 12 14 16 18 20 \n",
      "3 6 9 12 15 18 21 24 27 30 \n",
      "4 8 12 16 20 24 28 32 36 40 \n",
      "5 10 15 20 25 30 35 40 45 50 \n",
      "6 12 18 24 30 36 42 48 54 60 \n",
      "7 14 21 28 35 42 49 56 63 70 \n",
      "8 16 24 32 40 48 56 64 72 80 \n",
      "9 18 27 36 45 54 63 72 81 90 \n",
      "10 20 30 40 50 60 70 80 90 100 \n"
     ]
    }
   ],
   "source": [
    "for i in range(1,11): #range for row\n",
    "    for j in range (1,11): #range for column\n",
    "        k = i*j #multiply row and column\n",
    "        print (k, end=\" \") #print the function k=i*j\n",
    "    print( )"
   ]
  },
  {
   "cell_type": "markdown",
   "metadata": {},
   "source": [
    "6. Is a String Immutable in Python?"
   ]
  },
  {
   "cell_type": "markdown",
   "metadata": {},
   "source": [
    "Python strings are immutable. You can't change the value of the string, only the reference."
   ]
  },
  {
   "cell_type": "markdown",
   "metadata": {},
   "source": [
    "7. What is the output of x AND explain why that is the output for:"
   ]
  },
  {
   "cell_type": "raw",
   "metadata": {},
   "source": [
    "x = 36 / 4 * (3 +  2) * 4 + 2"
   ]
  },
  {
   "cell_type": "code",
   "execution_count": 16,
   "metadata": {},
   "outputs": [
    {
     "name": "stdout",
     "output_type": "stream",
     "text": [
      "182.0\n"
     ]
    }
   ],
   "source": [
    "x = 36 / 4 * (3 +2) * 4 + 2\n",
    "print(x)\n",
    "#PEMDAS"
   ]
  },
  {
   "cell_type": "markdown",
   "metadata": {},
   "source": [
    "TITUS QUESTION 4:\n",
    "What is the output of the following Python code\n",
    "\n",
    "x = 10\n",
    "y = 50\n",
    "if (x ** 2 > 100 and y < 100):\n",
    "    print(x, y)"
   ]
  },
  {
   "cell_type": "code",
   "execution_count": 8,
   "metadata": {},
   "outputs": [],
   "source": [
    "x = 10\n",
    "y = 50\n",
    "if (x ** 2 > 100 and y < 100):\n",
    "    print(x,y)\n",
    "    #WILL NOT PRINT"
   ]
  },
  {
   "cell_type": "markdown",
   "metadata": {},
   "source": [
    "The answer is nothing because the if statement is true"
   ]
  },
  {
   "cell_type": "markdown",
   "metadata": {},
   "source": [
    "TITUS QUESTION 5: What is the output of the following addition (+) operator, and why does this code chunk execute this way?\n",
    "\n",
    "a = [10, 20]\n",
    "b = a\n",
    "b += [30, 40]\n",
    "print(a)\n",
    "print(b)"
   ]
  },
  {
   "cell_type": "code",
   "execution_count": 9,
   "metadata": {},
   "outputs": [
    {
     "name": "stdout",
     "output_type": "stream",
     "text": [
      "[10, 20, 30, 40]\n",
      "[10, 20, 30, 40]\n"
     ]
    }
   ],
   "source": [
    "a = [10, 20]\n",
    "b = a\n",
    "b += [30, 40]\n",
    "print(a)\n",
    "print(b)\n",
    "#appending the b list, which makes it also happen to a"
   ]
  },
  {
   "cell_type": "markdown",
   "metadata": {},
   "source": [
    "TITUS QUESTION 6: What is the output of the following code and what arithmetic operators is being used here? print(2%6)"
   ]
  },
  {
   "cell_type": "code",
   "execution_count": 10,
   "metadata": {},
   "outputs": [
    {
     "name": "stdout",
     "output_type": "stream",
     "text": [
      "2\n"
     ]
    }
   ],
   "source": [
    "print(2&6)\n",
    "#boolean is being used here"
   ]
  },
  {
   "cell_type": "markdown",
   "metadata": {},
   "source": [
    "TITUS QUESTION 7: What is the output of the following code and what arithmetic operators are used here? print(2 * 3 ** 3 * 4)"
   ]
  },
  {
   "cell_type": "code",
   "execution_count": 11,
   "metadata": {},
   "outputs": [
    {
     "name": "stdout",
     "output_type": "stream",
     "text": [
      "216\n"
     ]
    }
   ],
   "source": [
    "print(2 * 3 ** 3 * 4)\n",
    "#multiplication and the power of said number"
   ]
  },
  {
   "cell_type": "markdown",
   "metadata": {},
   "source": [
    "TITUS QUESTION 8: What is a text editor?\n",
    "Answer: a program that saves your files w/o formatting"
   ]
  },
  {
   "cell_type": "markdown",
   "metadata": {},
   "source": [
    "TITUS QUESTION 9: What is python?\n",
    "Answer: Python is a programming language"
   ]
  },
  {
   "cell_type": "markdown",
   "metadata": {},
   "source": [
    "TITUS QUESTION 10: What is jupyter notebook, what type of python environment is it, and what alternatives are there to jupyter notebook?\n",
    "Answer: Jupyter Notebook is an open-source interactive coding application. It is a virtual envrionment."
   ]
  },
  {
   "cell_type": "markdown",
   "metadata": {},
   "source": [
    "<!--NAVIGATION-->\n",
    "Module 1. [Basic Python Syntax](./01_mod_python_syntax.ipynb) | [Variables and Objects](./02_python_variables_objects.ipynb) | [Operators](./03_python_operators.ipynb) | **[Practice](./04_mod_practice.ipynb)**\n",
    "<br>\n",
    "[top](#)"
   ]
  },
  {
   "cell_type": "markdown",
   "metadata": {},
   "source": [
    "- - -\n",
    "\n",
    "Copyright © 2020 Qualex Consulting Services Incorporated."
   ]
  }
 ],
 "metadata": {
  "kernelspec": {
   "display_name": "Python 3 (ipykernel)",
   "language": "python",
   "name": "python3"
  },
  "language_info": {
   "codemirror_mode": {
    "name": "ipython",
    "version": 3
   },
   "file_extension": ".py",
   "mimetype": "text/x-python",
   "name": "python",
   "nbconvert_exporter": "python",
   "pygments_lexer": "ipython3",
   "version": "3.9.12"
  }
 },
 "nbformat": 4,
 "nbformat_minor": 4
}
