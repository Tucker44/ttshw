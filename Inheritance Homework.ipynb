{
 "cells": [
  {
   "cell_type": "markdown",
   "id": "fcc92715",
   "metadata": {},
   "source": [
    "You are given two classes, Person and Student, where Person is the base class and Student is the derived class. Completed code for Person and a declaration for Student are provided for you in the editor. Observe that Student inherits all the properties of Person.\n",
    "\n",
    "Complete the Student class by writing the following:\n",
    "\n",
    "A Student class constructor, which has 4 parameters:\n",
    "\n",
    "A string, firstName\n",
    "A string, lastName\n",
    "An integer, id An integer array (or vector) of test scores, scores\n",
    "A char calculate() method that calculates a Student object's average and returns the grade character representative of their calculated average:\n",
    "\n",
    "A | 90-100\n",
    "B | 80-89\n",
    "C | 70-79\n",
    "D | 60-69\n",
    "F | <60"
   ]
  },
  {
   "cell_type": "code",
   "execution_count": 13,
   "id": "ae73cb66",
   "metadata": {},
   "outputs": [
    {
     "name": "stdout",
     "output_type": "stream",
     "text": [
      "Name, ID Number: Tucker Doherty, 44\n",
      "Number of Scores: 3\n",
      "List of Scores: 88 89 90\n",
      "Name: Doherty,Tucker\n",
      "ID: 44\n",
      "Grade: B\n"
     ]
    }
   ],
   "source": [
    "class Person:\n",
    "    def __init__(self, firstName, lastName, idNumber):\n",
    "        self.firstName = firstName\n",
    "        self.lastName = lastName\n",
    "        self.idNumber = idNumber\n",
    "\n",
    "    def printPerson(self):\n",
    "        print('Name:', self.lastName +  self.firstName)\n",
    "        print('ID:', self.idNumber)\n",
    "\n",
    "\n",
    "class Student(Person):\n",
    "    def __init__(self, firstName, lastName, idNumber, scores):\n",
    "        self.firstName = firstName\n",
    "        self.lastName = lastName\n",
    "        self.idNumber = idNumber\n",
    "        self.scores = scores\n",
    "\n",
    "    def calculate(self):\n",
    "        self.ave = sum(self.scores)/numScores\n",
    "        if self.ave >=90 and self.ave <= 100:\n",
    "            return 'A'\n",
    "        elif self.ave >= 80 and self.ave < 90:\n",
    "            return 'B'\n",
    "        elif self.ave >= 70 and self.ave < 80:\n",
    "            return 'C'\n",
    "        elif self.ave >= 60 and self.ave < 70:\n",
    "            return 'D'\n",
    "        elif self.ave < 60:\n",
    "            return 'F'\n",
    "\n",
    "line = input(\"Name, ID Number: \").split()\n",
    "firstName = line[0]\n",
    "lastName = line[1]\n",
    "idNumber= line[2]\n",
    "numScores = int(input(\"Number of Scores: \"))\n",
    "scores = list( map(int, input(\"List of Scores: \").split()) )\n",
    "s = Student(firstName, lastName, idNumber, scores)\n",
    "s.printPerson()\n",
    "print(\"Grade:\", s.calculate())"
   ]
  },
  {
   "cell_type": "code",
   "execution_count": null,
   "id": "0e6c4ddc",
   "metadata": {},
   "outputs": [],
   "source": []
  }
 ],
 "metadata": {
  "kernelspec": {
   "display_name": "Python 3 (ipykernel)",
   "language": "python",
   "name": "python3"
  },
  "language_info": {
   "codemirror_mode": {
    "name": "ipython",
    "version": 3
   },
   "file_extension": ".py",
   "mimetype": "text/x-python",
   "name": "python",
   "nbconvert_exporter": "python",
   "pygments_lexer": "ipython3",
   "version": "3.9.12"
  }
 },
 "nbformat": 4,
 "nbformat_minor": 5
}
